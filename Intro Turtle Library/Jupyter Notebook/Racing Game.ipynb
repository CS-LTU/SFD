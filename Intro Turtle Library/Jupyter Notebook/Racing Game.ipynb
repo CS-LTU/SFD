{
 "cells": [
  {
   "cell_type": "code",
   "execution_count": 1,
   "id": "e5361bc3",
   "metadata": {},
   "outputs": [],
   "source": [
    "import turtle"
   ]
  },
  {
   "cell_type": "code",
   "execution_count": 2,
   "id": "7ef1ec52",
   "metadata": {},
   "outputs": [],
   "source": [
    "Player1 = turtle.Turtle()\n",
    "Player1.color(\"green\")\n",
    "Player1.shape(\"turtle\")\n",
    "Player1.penup()\n",
    "Player1.goto(-300,100)\n",
    "Player2= Player1.clone()\n",
    "Player2.color(\"blue\")\n",
    "Player2.penup()\n",
    "Player2.goto(-300,-100)"
   ]
  },
  {
   "cell_type": "code",
   "execution_count": 3,
   "id": "2aa71abb",
   "metadata": {},
   "outputs": [],
   "source": [
    "Player1.goto(300,60)\n",
    "Player1.pendown()\n",
    "Player1.circle(40)\n",
    "Player1.penup()\n",
    "Player1.goto(-300,100)\n",
    "Player2.goto(300,-140)\n",
    "Player2.pendown()\n",
    "Player2.circle(40)\n",
    "Player2.penup()\n",
    "Player2.goto(-300,-100)"
   ]
  },
  {
   "cell_type": "code",
   "execution_count": 4,
   "id": "e2b798d7",
   "metadata": {},
   "outputs": [
    {
     "name": "stdout",
     "output_type": "stream",
     "text": [
      "Player1: how many steps forward? 300\n",
      "Player2: how many steps forward? 100\n",
      "Player One Wins!\n"
     ]
    }
   ],
   "source": [
    "for i in range(20):\n",
    "    if Player1.pos() >= (300,100):\n",
    "        print(\"Player One Wins!\")\n",
    "        break\n",
    "    elif Player2.pos() >= (300,-100):\n",
    "        print(\"Player Two Wins!\")\n",
    "        break\n",
    "    else:\n",
    "        Player1_Move = input(\"Player1: how many steps forward? \")\n",
    "        Player1.fd(20*int(Player1_Move))\n",
    "        Player2_Move = input(\"Player2: how many steps forward? \")\n",
    "        Player2.fd(20*int(Player2_Move))"
   ]
  },
  {
   "cell_type": "code",
   "execution_count": null,
   "id": "80d7ab73",
   "metadata": {},
   "outputs": [],
   "source": []
  }
 ],
 "metadata": {
  "kernelspec": {
   "display_name": "Python 3",
   "language": "python",
   "name": "python3"
  },
  "language_info": {
   "codemirror_mode": {
    "name": "ipython",
    "version": 3
   },
   "file_extension": ".py",
   "mimetype": "text/x-python",
   "name": "python",
   "nbconvert_exporter": "python",
   "pygments_lexer": "ipython3",
   "version": "3.8.8"
  }
 },
 "nbformat": 4,
 "nbformat_minor": 5
}

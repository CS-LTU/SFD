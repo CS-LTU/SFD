{
 "cells": [
  {
   "cell_type": "code",
   "execution_count": 1,
   "id": "1a6fa00e",
   "metadata": {},
   "outputs": [],
   "source": [
    "import turtle"
   ]
  },
  {
   "cell_type": "code",
   "execution_count": 2,
   "id": "aa9501e6",
   "metadata": {},
   "outputs": [],
   "source": [
    "# The Screen\n",
    "# Create a seperate screen to draw shapes\n",
    "s = turtle.getscreen()"
   ]
  },
  {
   "cell_type": "markdown",
   "id": "217ce556",
   "metadata": {},
   "source": [
    "# Create your first Turtle Object\n",
    "A turtle object is like a pen on the paper. The object gives you access to properties of the pen and some control over the movement of the pen. We will see these in the next few examples. "
   ]
  },
  {
   "cell_type": "code",
   "execution_count": 3,
   "id": "539fe8e7",
   "metadata": {},
   "outputs": [],
   "source": [
    "# Creating a Turtle object (pen)\n",
    "p = turtle.Turtle()"
   ]
  },
  {
   "cell_type": "markdown",
   "id": "9780794e",
   "metadata": {},
   "source": [
    "The screen will act as a canvas to draw on it and you can program the turtle to move around the screen\n",
    "a turtle has certain charactristics that you can change such as Size, color, and speed\n",
    "\n",
    "# Moving the Turtle\n",
    "There are four directions that a turtle can move:\n",
    "Forward\n",
    "Backward\n",
    "\n",
    "and rotate:\n",
    "\n",
    "- Left\n",
    "- Right\n"
   ]
  },
  {
   "cell_type": "code",
   "execution_count": 4,
   "id": "2814100b",
   "metadata": {},
   "outputs": [],
   "source": [
    "# move the turtle\n",
    "p.right(90) # or p.rt(90)\n",
    "p.forward(100)# or p.fd(100)\n",
    "p.left(90) # or p.lt(90)\n",
    "p.backward(100) # or p.bk(100)"
   ]
  },
  {
   "cell_type": "markdown",
   "id": "21fa2a83",
   "metadata": {},
   "source": [
    "# Move the Turtle by coordinates\n",
    "\n",
    "The turtle is initiated at point (0,0). You can give coordinates of the next move.\n",
    "The point (0,0) is called the home. You can also ask the turtle to go back to home. \n",
    "p.home or p.goto(0,0)"
   ]
  },
  {
   "cell_type": "code",
   "execution_count": 5,
   "id": "69dbd9c0",
   "metadata": {},
   "outputs": [],
   "source": [
    "p.goto(100,100) # go to coordinate (100,100)\n",
    "p.home() # go to home"
   ]
  },
  {
   "cell_type": "markdown",
   "id": "dcadd4af",
   "metadata": {},
   "source": [
    "# Drawing a shape: Square"
   ]
  },
  {
   "cell_type": "code",
   "execution_count": 6,
   "id": "767445f5",
   "metadata": {},
   "outputs": [],
   "source": [
    "p.fd(100)\n",
    "p.rt(90)\n",
    "p.fd(100)\n",
    "p.rt(90)\n",
    "p.fd(100)\n",
    "p.rt(90)\n",
    "p.fd(100)"
   ]
  },
  {
   "cell_type": "markdown",
   "id": "4b784836",
   "metadata": {},
   "source": [
    "# You can change the turtle shape \n",
    "- Square\n",
    "- Arrow \n",
    "- Circle\n",
    "- Turtle\n",
    "- Triangle \n",
    "- Classic\n",
    "\n",
    "You can use the method shape(\"shape type\") to change the shape of the pointer.\n",
    "\n",
    "Try it yourself. "
   ]
  },
  {
   "cell_type": "code",
   "execution_count": 7,
   "id": "25c1dcf7",
   "metadata": {},
   "outputs": [],
   "source": [
    "p.speed(1)\n",
    "p.forward(100)\n",
    "p.speed(10)\n",
    "p.forward(100)"
   ]
  },
  {
   "cell_type": "markdown",
   "id": "0d7b4e8c",
   "metadata": {},
   "source": [
    "# Customisations\n",
    "\n",
    "- Pen Colour: pencolor()\n",
    "- Fill Colour: fillcolor()\n",
    "- Pen Size: pensize()\n",
    "- Pen Speed: speed()"
   ]
  },
  {
   "cell_type": "markdown",
   "id": "62dad137",
   "metadata": {},
   "source": [
    "# Drawing a circle\n",
    "\n",
    "- Circle: circle(radius)\n",
    "Pay attention that the centre of the circle is not set by the method. The circle will start from the current position of the pointer. \n",
    "\n",
    "You can also create a dot using the method dot().\n",
    "Try the following example:"
   ]
  },
  {
   "cell_type": "code",
   "execution_count": 8,
   "id": "85be9823",
   "metadata": {},
   "outputs": [
    {
     "data": {
      "text/plain": [
       "<bound method TNavigator.home of <turtle.Turtle object at 0x000002DD40940670>>"
      ]
     },
     "execution_count": 8,
     "metadata": {},
     "output_type": "execute_result"
    }
   ],
   "source": [
    "p.circle(90)\n",
    "p.goto(200,200)\n",
    "p.dot(20)\n",
    "p.home"
   ]
  },
  {
   "cell_type": "markdown",
   "id": "1411c397",
   "metadata": {},
   "source": [
    "# Changing the Screen Color\n",
    "\n",
    "You can change the colour of the screen background using the bgcolor() method. "
   ]
  },
  {
   "cell_type": "code",
   "execution_count": null,
   "id": "8944885d",
   "metadata": {},
   "outputs": [],
   "source": [
    "#turtle.bgcolor(\"blue\")\n",
    "turtle.bgcolor(\"white\")"
   ]
  },
  {
   "cell_type": "markdown",
   "id": "9f0477b4",
   "metadata": {},
   "source": [
    "# Chaning the Screen Title\n",
    "\n",
    "You can set the title of the screen using the title() method. "
   ]
  },
  {
   "cell_type": "code",
   "execution_count": 9,
   "id": "f8bc254d",
   "metadata": {},
   "outputs": [],
   "source": [
    "turtle.title(\"My Turtle Program\")"
   ]
  },
  {
   "cell_type": "markdown",
   "id": "d761120b",
   "metadata": {},
   "source": [
    "# Cleaning the Screen"
   ]
  },
  {
   "cell_type": "code",
   "execution_count": 10,
   "id": "3e0f6fc7",
   "metadata": {},
   "outputs": [],
   "source": [
    "p.clear()"
   ]
  },
  {
   "cell_type": "markdown",
   "id": "711ab632",
   "metadata": {},
   "source": [
    "# Pen Up/Down\n",
    "\n",
    "Sometimes when you are drawing a shape, you may wish to put up the pen and put it down at another point in the page. \n",
    "\n",
    "- penup()\n",
    "- pwndown()"
   ]
  },
  {
   "cell_type": "code",
   "execution_count": 11,
   "id": "52ab51de",
   "metadata": {},
   "outputs": [],
   "source": [
    "p.fd(100)\n",
    "p.rt(90)\n",
    "\n",
    "p.penup()\n",
    "p.fd(100)\n",
    "p.rt(45)\n",
    "\n",
    "p.pendown()\n",
    "p.fd(100)\n",
    "p.rt(45)\n",
    "\n",
    "p.penup()\n",
    "p.fd(100)\n",
    "\n",
    "p.pendown()"
   ]
  },
  {
   "cell_type": "markdown",
   "id": "6b61aea6",
   "metadata": {},
   "source": [
    "# Filling in a shape\n",
    "\n",
    "To fill in a shape, you can start a filling environment, once a closed-shape is sketched, it will be filled with a given color. Let's see an example. \n",
    "\n",
    "The method called fillcolor() will change the color of the pointer as well. This will not change the color of the paintings, only the filling parts."
   ]
  },
  {
   "cell_type": "code",
   "execution_count": 12,
   "id": "95a4938a",
   "metadata": {},
   "outputs": [],
   "source": [
    "p.goto(-10,-10)\n",
    "p.fillcolor(\"orange\")\n",
    "p.begin_fill()\n",
    "p.circle(30)\n",
    "p.end_fill()"
   ]
  },
  {
   "cell_type": "markdown",
   "id": "a4de31c2",
   "metadata": {},
   "source": [
    "# Cloning a Turtle\n",
    "\n",
    "You can use the clone() method to replicate a turtle. \n",
    "r=p.clone()"
   ]
  },
  {
   "cell_type": "code",
   "execution_count": 13,
   "id": "e6f3a252",
   "metadata": {},
   "outputs": [],
   "source": [
    "# replicating the current turtle with all of its properties \n",
    "r = p.clone() \n",
    "p.color(\"magenta\")\n",
    "r.color(\"red\")\n",
    "p.circle(70)\n",
    "r.circle(40)"
   ]
  },
  {
   "cell_type": "markdown",
   "id": "c3d3cc37",
   "metadata": {},
   "source": [
    "# Leaving a Stamp\n",
    "\n",
    "You can leave a stamp along the lines. A stamp is a imprint of the turtle (pointer shape). \n",
    "You can use the stamp() method to achieve this. "
   ]
  },
  {
   "cell_type": "code",
   "execution_count": 17,
   "id": "caacc9fe",
   "metadata": {},
   "outputs": [],
   "source": [
    "p.rt(-90)\n",
    "p.fd(100)\n",
    "p.stamp()\n",
    "p.fd(100)"
   ]
  },
  {
   "cell_type": "markdown",
   "id": "c20825c8",
   "metadata": {},
   "source": [
    "# Undo\n",
    "You can undo a change using undo() method. "
   ]
  },
  {
   "cell_type": "code",
   "execution_count": 87,
   "id": "9ca61ff1",
   "metadata": {},
   "outputs": [],
   "source": [
    "p.rt(-90)\n",
    "p.fd(100)\n",
    "p.stamp()\n",
    "p.fd(100)\n",
    "p.undo()"
   ]
  },
  {
   "cell_type": "markdown",
   "id": "c81989c1",
   "metadata": {},
   "source": [
    "# Reseting the Environment \n",
    "\n",
    "You can use the reset() method to reset the environemnt. This will clear the screen and the pointer to its home position (0,0)."
   ]
  },
  {
   "cell_type": "code",
   "execution_count": 88,
   "id": "8192645c",
   "metadata": {},
   "outputs": [],
   "source": [
    "p.reset()"
   ]
  },
  {
   "cell_type": "markdown",
   "id": "b6a7329d",
   "metadata": {},
   "source": [
    "# Loops: Iterate and create similar shapes"
   ]
  },
  {
   "cell_type": "markdown",
   "id": "dab7a176",
   "metadata": {},
   "source": [
    "# for Loops\n",
    "\n",
    "let's assume that we want to create several circles with different radius. \n",
    "A method to achieve this is simply drawing the circles one by one (lines of code). \n",
    "p.circle(10)\n",
    "p.circle(20)\n",
    "p.circle(30)\n",
    "p.circle(40)\n",
    "\n",
    "However, we can use a for loop to repeat the process and increase/decrease the radius. "
   ]
  },
  {
   "cell_type": "code",
   "execution_count": 91,
   "id": "6627bf67",
   "metadata": {},
   "outputs": [],
   "source": [
    "for i in range(5):\n",
    "    p.circle(10*i)\n",
    "p.circle(500*i)"
   ]
  },
  {
   "cell_type": "markdown",
   "id": "21bcb510",
   "metadata": {},
   "source": [
    "# While loop\n",
    "\n",
    "A for loop will iterate a selection of instructions for a give nummber of times. \n",
    "A while loop will iterate a selection of instructions until certain condition(s) is/are met. \n",
    "\n",
    "Let's look at the example below."
   ]
  },
  {
   "cell_type": "code",
   "execution_count": 92,
   "id": "33b5cd0c",
   "metadata": {},
   "outputs": [],
   "source": [
    "radius=1\n",
    "counter=1\n",
    "p.goto(-100,100)\n",
    "while radius<500:\n",
    "    counter=counter+1\n",
    "    radius=10*counter\n",
    "    p.circle(radius)\n",
    "    p.speed(radius)"
   ]
  },
  {
   "cell_type": "markdown",
   "id": "09e04eac",
   "metadata": {},
   "source": [
    "# Conditional Statements\n",
    "\n",
    "Conditional statements are used for comparison and checking if certain condition is met. \n",
    "\n",
    "The == operator is used for checking if two sides of the operator are equal. \n",
    "\n",
    "You can run a set of instruction if certain condition is met. Let's see an example. "
   ]
  },
  {
   "cell_type": "code",
   "execution_count": null,
   "id": "2f00a3c8",
   "metadata": {},
   "outputs": [],
   "source": [
    "# Asking for user input\n",
    "in1 = input(\"Would you like me to draw a shape? y/n: \")\n",
    "# note that after running the code, you will have to respond to the question with a yes or no. \n",
    "\n",
    "if in1 == \"y\":\n",
    "    p.pencolor(\"purple\")\n",
    "    p.circle(55)\n",
    "elif in1==\"n\":\n",
    "    print(\"No shapes have been added\")\n",
    "else:\n",
    "    print(\"invalid reply\")"
   ]
  }
 ],
 "metadata": {
  "kernelspec": {
   "display_name": "Python 3",
   "language": "python",
   "name": "python3"
  },
  "language_info": {
   "codemirror_mode": {
    "name": "ipython",
    "version": 3
   },
   "file_extension": ".py",
   "mimetype": "text/x-python",
   "name": "python",
   "nbconvert_exporter": "python",
   "pygments_lexer": "ipython3",
   "version": "3.8.8"
  }
 },
 "nbformat": 4,
 "nbformat_minor": 5
}

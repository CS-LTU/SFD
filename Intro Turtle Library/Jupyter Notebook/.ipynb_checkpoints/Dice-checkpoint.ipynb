{
 "cells": [
  {
   "cell_type": "code",
   "execution_count": null,
   "id": "6f4b8f57",
   "metadata": {},
   "outputs": [
    {
     "name": "stdout",
     "output_type": "stream",
     "text": [
      "Rolling the dices...\n",
      "The values are....\n",
      "3\n",
      "3\n",
      "Roll the dices again? y/ny\n",
      "Rolling the dices...\n",
      "The values are....\n",
      "3\n",
      "1\n",
      "Roll the dices again? y/ny\n",
      "Rolling the dices...\n",
      "The values are....\n",
      "5\n",
      "2\n",
      "Roll the dices again? y/ny\n",
      "Rolling the dices...\n",
      "The values are....\n",
      "4\n",
      "4\n"
     ]
    }
   ],
   "source": [
    "import random\n",
    "min = 1\n",
    "max = 6\n",
    "\n",
    "roll_again = \"yes\"\n",
    "\n",
    "while roll_again == \"yes\" or roll_again == \"y\":\n",
    "    print(\"Rolling the dices...\")\n",
    "    print(\"The values are....\")\n",
    "    die1=random.randint(min, max)\n",
    "    die2=random.randint(min, max)\n",
    "    print(\"die1:\",die1)\n",
    "    print(\"die2:\",die2)\n",
    "    roll_again = input(\"Role again? y/n\")"
   ]
  },
  {
   "cell_type": "code",
   "execution_count": null,
   "id": "a3527271",
   "metadata": {},
   "outputs": [],
   "source": []
  }
 ],
 "metadata": {
  "kernelspec": {
   "display_name": "Python 3",
   "language": "python",
   "name": "python3"
  },
  "language_info": {
   "codemirror_mode": {
    "name": "ipython",
    "version": 3
   },
   "file_extension": ".py",
   "mimetype": "text/x-python",
   "name": "python",
   "nbconvert_exporter": "python",
   "pygments_lexer": "ipython3",
   "version": "3.8.8"
  }
 },
 "nbformat": 4,
 "nbformat_minor": 5
}
